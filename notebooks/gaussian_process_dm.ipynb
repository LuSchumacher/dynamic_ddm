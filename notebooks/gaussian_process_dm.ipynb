{
 "cells": [
  {
   "cell_type": "code",
   "execution_count": 1,
   "id": "suburban-editing",
   "metadata": {},
   "outputs": [
    {
     "name": "stderr",
     "output_type": "stream",
     "text": [
      "c:\\Users\\Lukas.Schumacher\\miniconda3\\envs\\cogModeling\\lib\\site-packages\\scipy\\__init__.py:138: UserWarning: A NumPy version >=1.16.5 and <1.23.0 is required for this version of SciPy (detected version 1.23.2)\n",
      "  warnings.warn(f\"A NumPy version >={np_minversion} and <{np_maxversion} is required for this version of \"\n"
     ]
    }
   ],
   "source": [
    "import numpy as np\n",
    "import pandas as pd\n",
    "import seaborn as sns\n",
    "import matplotlib.pyplot as plt"
   ]
  },
  {
   "cell_type": "code",
   "execution_count": 2,
   "id": "wrong-stanford",
   "metadata": {},
   "outputs": [],
   "source": [
    "import sys\n",
    "sys.path.append(\"../src\")\n",
    "\n",
    "from macro_models import gaussian_process, batched_gaussian_process\n",
    "from micro_models import simple_batch_diffusion\n",
    "from helpers import build_distance_matrix\n",
    "from priors import diffusion_prior, length_scale_prior, diffusion_prior_gp"
   ]
  },
  {
   "cell_type": "code",
   "execution_count": 3,
   "id": "sublime-collect",
   "metadata": {},
   "outputs": [],
   "source": [
    "%load_ext autoreload\n",
    "%autoreload 2"
   ]
  },
  {
   "cell_type": "code",
   "execution_count": null,
   "id": "56883ee5",
   "metadata": {},
   "outputs": [],
   "source": [
    "# gpu setting and checking\n",
    "physical_devices = tf.config.list_physical_devices('GPU')\n",
    "tf.config.experimental.set_memory_growth(physical_devices[0], enable=True)\n",
    "print(tf.config.list_physical_devices('GPU'))"
   ]
  },
  {
   "cell_type": "code",
   "execution_count": 4,
   "id": "195e86fe",
   "metadata": {},
   "outputs": [],
   "source": [
    "N_SIM = 100\n",
    "N_OBS = 100\n",
    "N_SAMPLES = 4000\n",
    "N_PARAMS = 3"
   ]
  },
  {
   "cell_type": "code",
   "execution_count": null,
   "id": "ad2bf6fb",
   "metadata": {},
   "outputs": [],
   "source": [
    "# load simulated data and true params\n",
    "sim = pd.read_pickle('../data/sim_data/static_dm_data_100.pkl')\n",
    "x_nn = sim['rt']\n",
    "micro_true = sim['theta']\n",
    "x_nn.shape"
   ]
  },
  {
   "cell_type": "markdown",
   "id": "4f002e0d",
   "metadata": {},
   "source": [
    "## Prepare dynamic stan posteriors"
   ]
  },
  {
   "cell_type": "code",
   "execution_count": 5,
   "id": "35f9c892",
   "metadata": {},
   "outputs": [],
   "source": [
    "import re\n",
    "from os import listdir\n",
    "from os.path import isfile, join\n",
    "\n",
    "def atoi(text):\n",
    "    return int(text) if text.isdigit() else text\n",
    "\n",
    "def natural_keys(text):\n",
    "    '''\n",
    "    alist.sort(key=natural_keys) sorts in human order\n",
    "    http://nedbatchelder.com/blog/200712/human_sorting.html\n",
    "    (See Toothy's implementation in the comments)\n",
    "    '''\n",
    "    return [ atoi(c) for c in re.split(r'(\\d+)', text) ]"
   ]
  },
  {
   "cell_type": "code",
   "execution_count": null,
   "id": "4a0bc041",
   "metadata": {},
   "outputs": [],
   "source": [
    "mypath = \"C:/Users/Lukas.Schumacher/Documents/GitHub/dynamic_dm/stan/dynamic_stan_fits\"\n",
    "files = [f for f in listdir(mypath) if isfile(join(mypath, f))]\n",
    "files.sort(key=natural_keys)\n",
    "len(files)"
   ]
  },
  {
   "cell_type": "code",
   "execution_count": null,
   "id": "ee2bd482",
   "metadata": {},
   "outputs": [],
   "source": [
    "dynamic_stan_post = np.empty((N_SIM, N_OBS, N_SAMPLES, N_PARAMS))\n",
    "for i in range(len(files)):\n",
    "    post_samples = pd.read_csv('dynamic_stan_fits/' + files[i], index_col=False)\n",
    "    dynamic_stan_post[i] = post_samples.to_numpy()[:, 3:].reshape(100, 4000, 3)\n",
    "\n",
    "dynamic_stan_post.shape"
   ]
  },
  {
   "cell_type": "code",
   "execution_count": null,
   "id": "937b60b6",
   "metadata": {},
   "outputs": [],
   "source": [
    "# get mean and std of posterior stds\n",
    "dynamic_stan_post_std_means = dynamic_stan_post.std(axis=2).mean(axis=0)\n",
    "dynamic_stan_post_std_stds = dynamic_stan_post.std(axis=2).std(axis=0)"
   ]
  },
  {
   "cell_type": "code",
   "execution_count": null,
   "id": "4b50c671",
   "metadata": {},
   "outputs": [],
   "source": [
    "# get posterior means\n",
    "dynamic_stan_post_means = dynamic_stan_post.mean(axis=2)\n",
    "dynamic_stan_post_means.shape"
   ]
  },
  {
   "cell_type": "code",
   "execution_count": null,
   "id": "507726e2",
   "metadata": {},
   "outputs": [],
   "source": [
    "dynamic_stan_abs_error = np.empty((N_SIM, N_OBS, N_PARAMS))\n",
    "for i in range(N_SIM):\n",
    "    dynamic_stan_abs_error[i] = np.abs(dynamic_stan_post_means[i] - micro_true[i])\n",
    "dynamic_stan_abs_error.shape"
   ]
  },
  {
   "cell_type": "code",
   "execution_count": null,
   "id": "fef6e744",
   "metadata": {},
   "outputs": [],
   "source": [
    "dynamic_stan_abs_error_mean = dynamic_stan_abs_error.mean(axis=0)\n",
    "dynamic_stan_abs_error_std = dynamic_stan_abs_error.std(axis=0)"
   ]
  },
  {
   "cell_type": "markdown",
   "id": "8ca5c919",
   "metadata": {},
   "source": [
    "## Neural Training"
   ]
  },
  {
   "cell_type": "code",
   "execution_count": null,
   "id": "8fa1ce4d",
   "metadata": {},
   "outputs": [],
   "source": [
    "def generator_fun(batch_size, T):\n",
    "#     macro_prior_mean = beta.mean(1, 25)\n",
    "#     macro_prior_sd = beta.std(1, 25)\n",
    "#     micro_prior_means = gamma.mean([2.5, 4, 1.5], scale=[1/2, 1/3, 1/5])\n",
    "#     micro_prior_sds = gamma.std([2.5, 4, 1.5], scale=[1/2, 1/3, 1/5])\n",
    "\n",
    "    theta = diffusion_prior(batch_size, n_cond=1)\n",
    "    eta = random_walk_prior(batch_size, 3)\n",
    "    theta_t = random_walk(theta, eta, T)\n",
    "    rt = simple_batch_diffusion(theta_t).astype(np.float32)\n",
    "\n",
    "#     eta_z = z_standardize(eta, macro_prior_mean, macro_prior_sd)\n",
    "    \n",
    "#     theta_t_z = theta_t.copy()\n",
    "#     for i in range(theta_t.shape[0]):\n",
    "#         theta_t_z[i] =  z_standardize(theta_t[i], micro_prior_means,  micro_prior_sds)\n",
    "\n",
    "    return eta.astype(np.float32), theta_t.astype(np.float32), rt"
   ]
  },
  {
   "cell_type": "code",
   "execution_count": null,
   "id": "ea4f6dc4",
   "metadata": {},
   "outputs": [],
   "source": []
  },
  {
   "cell_type": "code",
   "execution_count": null,
   "id": "084de4a9",
   "metadata": {},
   "outputs": [],
   "source": []
  },
  {
   "cell_type": "code",
   "execution_count": null,
   "id": "66a8c1cf",
   "metadata": {},
   "outputs": [],
   "source": []
  },
  {
   "cell_type": "code",
   "execution_count": null,
   "id": "06838530",
   "metadata": {},
   "outputs": [],
   "source": []
  },
  {
   "cell_type": "code",
   "execution_count": 199,
   "id": "positive-adobe",
   "metadata": {},
   "outputs": [],
   "source": [
    "batch_size = 8\n",
    "T = 100\n",
    "n_params = 6\n",
    "dist_mat = build_distance_matrix(T)\n",
    "length_scales = length_scale_prior(batch_size, 3)\n",
    "theta0 = diffusion_prior_gp(batch_size, n_cond=1)"
   ]
  },
  {
   "cell_type": "code",
   "execution_count": 200,
   "id": "exposed-screen",
   "metadata": {},
   "outputs": [
    {
     "name": "stdout",
     "output_type": "stream",
     "text": [
      "Wall time: 140 ms\n"
     ]
    }
   ],
   "source": [
    "%%time\n",
    "gp_samples = batched_gaussian_process(theta0, dist_mat, length_scales, amplitudes=[0.1, 0.1, 0.03])\n",
    "rt = simple_batch_diffusion(gp_samples)"
   ]
  },
  {
   "cell_type": "code",
   "execution_count": 190,
   "id": "immune-dakota",
   "metadata": {},
   "outputs": [],
   "source": []
  },
  {
   "cell_type": "code",
   "execution_count": null,
   "id": "material-server",
   "metadata": {},
   "outputs": [],
   "source": []
  }
 ],
 "metadata": {
  "kernelspec": {
   "display_name": "Python 3.9.5 ('cogModeling')",
   "language": "python",
   "name": "python3"
  },
  "language_info": {
   "codemirror_mode": {
    "name": "ipython",
    "version": 3
   },
   "file_extension": ".py",
   "mimetype": "text/x-python",
   "name": "python",
   "nbconvert_exporter": "python",
   "pygments_lexer": "ipython3",
   "version": "3.9.5"
  },
  "toc": {
   "base_numbering": 1,
   "nav_menu": {},
   "number_sections": true,
   "sideBar": true,
   "skip_h1_title": false,
   "title_cell": "Table of Contents",
   "title_sidebar": "Contents",
   "toc_cell": false,
   "toc_position": {},
   "toc_section_display": true,
   "toc_window_display": false
  },
  "vscode": {
   "interpreter": {
    "hash": "3e3407267051e534a6de4f0523cb42ed5b5ed38d4238d1097c3ce82aa60caaae"
   }
  }
 },
 "nbformat": 4,
 "nbformat_minor": 5
}
